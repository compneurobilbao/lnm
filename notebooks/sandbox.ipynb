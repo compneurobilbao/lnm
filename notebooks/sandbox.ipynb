{
 "cells": [
  {
   "cell_type": "code",
   "execution_count": 16,
   "metadata": {},
   "outputs": [],
   "source": [
    "import numpy as np\n",
    "import pandas as pd\n",
    "import seaborn as sns\n",
    "import matplotlib.pyplot as plt\n",
    "import nibabel as nib\n",
    "from nilearn.maskers import NiftiMasker\n",
    "import os\n",
    "from nilearn.glm.second_level import SecondLevelModel"
   ]
  },
  {
   "cell_type": "code",
   "execution_count": 11,
   "metadata": {},
   "outputs": [],
   "source": [
    "project_path = '/workspaces/lnm'\n",
    "gm_mask = nib.load('../data/gm_mask_2mm.nii.gz')\n",
    "gm_vol = gm_mask.get_fdata()\n",
    "lesion_mask = nib.load('../data/lesion/lesion1.nii.gz')\n",
    "lesion_vol = lesion_mask.get_fdata()\n",
    "lesion_cut= nib.Nifti1Image(lesion_vol*gm_vol, lesion_mask.affine)"
   ]
  },
  {
   "cell_type": "code",
   "execution_count": 6,
   "metadata": {},
   "outputs": [],
   "source": [
    "lesion_masker = NiftiMasker(mask_img=lesion_cut, standardize=\"zscore_sample\")\n",
    "gm_masker = NiftiMasker(mask_img=gm_mask, standardize=\"zscore_sample\")"
   ]
  },
  {
   "cell_type": "code",
   "execution_count": 8,
   "metadata": {},
   "outputs": [],
   "source": [
    "sub_list = ['sub-032302', 'sub-032304', 'sub-032307']"
   ]
  },
  {
   "cell_type": "code",
   "execution_count": 12,
   "metadata": {},
   "outputs": [],
   "source": [
    "seed_to_voxel_correlations_group = []\n",
    "for sub in sub_list:\n",
    "    resting_img = nib.load(os.path.join(project_path, 'data', 'func', sub, sub + '_preprocessed.nii.gz'))\n",
    "    ts_lesion = lesion_masker.fit_transform(resting_img).mean(axis=1).reshape(-1,1)\n",
    "    ts_gm = gm_masker.fit_transform(resting_img)\n",
    "    seed_to_voxel_correlations = (\n",
    "        np.dot(ts_gm.T, ts_lesion) / ts_lesion.shape[0]\n",
    "    )\n",
    "    seed_to_voxel_correlations_fisher_z = np.arctanh(seed_to_voxel_correlations)\n",
    "\n",
    "    seed_to_voxel_correlations_group.append(gm_masker.inverse_transform(\n",
    "        seed_to_voxel_correlations_fisher_z.T\n",
    "    ))"
   ]
  },
  {
   "cell_type": "code",
   "execution_count": 14,
   "metadata": {},
   "outputs": [
    {
     "data": {
      "text/plain": [
       "[<nibabel.nifti1.Nifti1Image at 0x7f8f7a3f9e20>,\n",
       " <nibabel.nifti1.Nifti1Image at 0x7f8f7a1df520>,\n",
       " <nibabel.nifti1.Nifti1Image at 0x7f8fcc03e670>]"
      ]
     },
     "execution_count": 14,
     "metadata": {},
     "output_type": "execute_result"
    }
   ],
   "source": [
    "seed_to_voxel_correlations_group"
   ]
  },
  {
   "cell_type": "code",
   "execution_count": 17,
   "metadata": {},
   "outputs": [],
   "source": [
    "second_level_model = SecondLevelModel()\n",
    "design_matrix = pd.DataFrame(\n",
    "    [1] * len(seed_to_voxel_correlations_group),\n",
    "    columns=[\"intercept\"],\n",
    ")\n",
    "second_level_model = second_level_model.fit(\n",
    "    seed_to_voxel_correlations_group,\n",
    "    design_matrix=design_matrix,\n",
    ")"
   ]
  },
  {
   "cell_type": "code",
   "execution_count": 18,
   "metadata": {},
   "outputs": [],
   "source": [
    "z_map = second_level_model.compute_contrast(\n",
    "    second_level_contrast=\"intercept\",\n",
    "    output_type=\"z_score\",\n",
    ")"
   ]
  },
  {
   "cell_type": "code",
   "execution_count": 20,
   "metadata": {},
   "outputs": [],
   "source": [
    "z_map.to_filename(os.path.join(project_path, 'data', 'lesion', 'z_map.nii.gz'))"
   ]
  }
 ],
 "metadata": {
  "kernelspec": {
   "display_name": "Python 3",
   "language": "python",
   "name": "python3"
  },
  "language_info": {
   "codemirror_mode": {
    "name": "ipython",
    "version": 3
   },
   "file_extension": ".py",
   "mimetype": "text/x-python",
   "name": "python",
   "nbconvert_exporter": "python",
   "pygments_lexer": "ipython3",
   "version": "3.9.18"
  },
  "orig_nbformat": 4,
  "vscode": {
   "interpreter": {
    "hash": "949777d72b0d2535278d3dc13498b2535136f6dfe0678499012e853ee9abcab1"
   }
  }
 },
 "nbformat": 4,
 "nbformat_minor": 2
}
